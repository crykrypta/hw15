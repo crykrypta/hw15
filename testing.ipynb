{
 "cells": [
  {
   "cell_type": "markdown",
   "metadata": {},
   "source": [
    "# Тестирование `API` модели `ChatGPT` (ДЗ Pro)"
   ]
  },
  {
   "cell_type": "markdown",
   "metadata": {},
   "source": [
    "## Тестировка кастомного класса `LLM`"
   ]
  },
  {
   "cell_type": "markdown",
   "metadata": {},
   "source": [
    "**Как проводить тесты:**\n",
    "1. Задать значение переменной `root_url` - ваш корень\n",
    "2. Запустить команду `uvicorn main:app --port 5000` для ядра ноутбука\n",
    "3. Запускать ячейки по очереди"
   ]
  },
  {
   "cell_type": "code",
   "execution_count": 15,
   "metadata": {},
   "outputs": [],
   "source": [
    "import requests\n",
    "root_url = 'http://127.0.0.1:5000' # Тут должен быть ваш корень"
   ]
  },
  {
   "cell_type": "markdown",
   "metadata": {},
   "source": [
    "Инициализация обьекта `LLM`"
   ]
  },
  {
   "cell_type": "code",
   "execution_count": 16,
   "metadata": {},
   "outputs": [],
   "source": [
    "from LLM import LLM\n",
    "\n",
    "system = '''Ты - нейро-консультант, специализирующийся на страховании ответственности аэропортов и авиационных товаропроизводителей. \n",
    "Твоя задача - предоставлять точные и полезные ответы на вопросы пользователя на основе документа \"ПРАВИЛА СТРАХОВАНИЯ ОТВЕТСТВЕННОСТИ АЭРОПОРТОВ И АВИАЦИОННЫХ ТОВАРОПРОИЗВОДИТЕЛЕЙ\". \n",
    "Не добавляй личные мнения или информацию, не содержащуюся в документе. \n",
    "Сосредоточься на предоставлении четких, кратких и актуальных ответов, основываясь исключительно на содержании документа. \n",
    "Не упоминай сам документ в своих ответах.'''\n",
    "\n",
    "llm = LLM(path_to_base='text_db.txt',\n",
    "          system=system,\n",
    "          chunk_size=1024,\n",
    "          model_name='gpt-3.5-turbo',\n",
    "          metadata_lenths=True)"
   ]
  },
  {
   "cell_type": "markdown",
   "metadata": {},
   "source": [
    "## Обращение к модели"
   ]
  },
  {
   "cell_type": "code",
   "execution_count": 17,
   "metadata": {},
   "outputs": [
    {
     "name": "stdout",
     "output_type": "stream",
     "text": [
      "Я - нейро-консультант, специализирующийся на страховании ответственности аэропортов и авиационных\n",
      "товаропроизводителей.\n"
     ]
    }
   ],
   "source": [
    "print(llm.get_answer(\"Кто ты?\", outline_limit=100))"
   ]
  },
  {
   "cell_type": "code",
   "execution_count": 18,
   "metadata": {},
   "outputs": [
    {
     "name": "stdout",
     "output_type": "stream",
     "text": [
      "При задержке рейса более чем на 24 часа, авиакомпания обязана предоставить пассажирам возможность\n",
      "отмены рейса и возврата стоимости билета, либо предоставить альтернативный рейс.\n"
     ]
    }
   ],
   "source": [
    "print(llm.get_answer(\"Какие обязательства выпадают на авиакомпанию, при задержке рейса более чем на 24 часа?\",\n",
    "                     outline_limit=100))"
   ]
  },
  {
   "cell_type": "code",
   "execution_count": 19,
   "metadata": {},
   "outputs": [
    {
     "name": "stdout",
     "output_type": "stream",
     "text": [
      "В случае если пассажир причинил себе травму на борту самолета, но нарушил правила нахождения в\n",
      "самолете, ответственность за возможное страховое возмещение может возложиться на самого пассажира в\n",
      "соответствии с действующими правилами страхования.\n"
     ]
    }
   ],
   "source": [
    "print(llm.get_answer(\"На ком лежит ответственность если пассажио сам причинил себе травму на борту, но нарушил правила нахождения в самолете\",\n",
    "                     outline_limit=100))"
   ]
  },
  {
   "cell_type": "markdown",
   "metadata": {},
   "source": [
    "## Получение счетчика"
   ]
  },
  {
   "cell_type": "code",
   "execution_count": 32,
   "metadata": {},
   "outputs": [
    {
     "name": "stdout",
     "output_type": "stream",
     "text": [
      "{'counter': 4}\n"
     ]
    }
   ],
   "source": [
    "response = requests.get(root_url + '/calc/counter')\n",
    "print(response.json())"
   ]
  },
  {
   "cell_type": "markdown",
   "metadata": {},
   "source": [
    " # Тестировка Калькулятора (ДЗ Lite)"
   ]
  },
  {
   "cell_type": "markdown",
   "metadata": {},
   "source": [
    "## При помощи `requests`"
   ]
  },
  {
   "cell_type": "code",
   "execution_count": 21,
   "metadata": {},
   "outputs": [],
   "source": [
    "import requests\n",
    "# root_url = 'http://127.0.0.1:5000'  # Тут должен быть ваш корень"
   ]
  },
  {
   "cell_type": "markdown",
   "metadata": {},
   "source": [
    "`/` == `root_url` == `'http://127.0.0.1:5000'`"
   ]
  },
  {
   "cell_type": "code",
   "execution_count": 22,
   "metadata": {},
   "outputs": [
    {
     "name": "stdout",
     "output_type": "stream",
     "text": [
      "{\"message\":\"Hello World\"}\n"
     ]
    }
   ],
   "source": [
    "response = requests.get(root_url)\n",
    "print(response.text)"
   ]
  },
  {
   "cell_type": "markdown",
   "metadata": {},
   "source": [
    "Маршрут - `/help`"
   ]
  },
  {
   "cell_type": "code",
   "execution_count": 23,
   "metadata": {},
   "outputs": [
    {
     "name": "stdout",
     "output_type": "stream",
     "text": [
      "{\"message\":\"Help Page\"}\n"
     ]
    }
   ],
   "source": [
    "response = requests.get(root_url + '/help')\n",
    "print(response.text)"
   ]
  },
  {
   "cell_type": "markdown",
   "metadata": {},
   "source": [
    "Маршрут - `/llm/get_answer`\n",
    "\n",
    "Здесь для мы передаем `json` в теле запроса"
   ]
  },
  {
   "cell_type": "code",
   "execution_count": 24,
   "metadata": {},
   "outputs": [
    {
     "name": "stdout",
     "output_type": "stream",
     "text": [
      "Я - нейроконсультант, готов помочь вам с вопросами и информацией на основе доступной мне информации.\n"
     ]
    }
   ],
   "source": [
    "json_body = {\n",
    "    'text': 'Кто ты?'\n",
    "}\n",
    "\n",
    "response = requests.get(root_url + '/llm/get_answer', json=json_body)\n",
    "print(response.json()['answer'])"
   ]
  },
  {
   "cell_type": "markdown",
   "metadata": {},
   "source": [
    "## Тесты Калькулятора"
   ]
  },
  {
   "cell_type": "markdown",
   "metadata": {},
   "source": [
    "`Сумма`"
   ]
  },
  {
   "cell_type": "code",
   "execution_count": 25,
   "metadata": {},
   "outputs": [
    {
     "name": "stdout",
     "output_type": "stream",
     "text": [
      "Сложение: {'answer': 3.0}\n"
     ]
    }
   ],
   "source": [
    "response = requests.get(root_url + '/calc/sum', params={'a': 1, 'b': 2})\n",
    "print('Сложение:', response.json())  # Ожидаемый ответ: {'operation': 'addition', 'a': 1, 'b': 2, 'answer': 3}"
   ]
  },
  {
   "cell_type": "markdown",
   "metadata": {},
   "source": [
    "`Вычитание`"
   ]
  },
  {
   "cell_type": "code",
   "execution_count": 26,
   "metadata": {},
   "outputs": [
    {
     "name": "stdout",
     "output_type": "stream",
     "text": [
      "{\"answer\":1.0}\n"
     ]
    }
   ],
   "source": [
    "response = requests.get(root_url + '/calc/subtract', params={'a': 3, 'b': 2})\n",
    "print(response.text)"
   ]
  },
  {
   "cell_type": "markdown",
   "metadata": {},
   "source": [
    "`Деление на ноль`"
   ]
  },
  {
   "cell_type": "code",
   "execution_count": 27,
   "metadata": {},
   "outputs": [
    {
     "name": "stdout",
     "output_type": "stream",
     "text": [
      "{\"detail\":\"Деление на ноль\"}\n"
     ]
    }
   ],
   "source": [
    "response = requests.get(root_url + '/calc/divide', params={'a': 10, 'b': 0})\n",
    "print(response.text)"
   ]
  },
  {
   "cell_type": "markdown",
   "metadata": {},
   "source": [
    "`Умножение`"
   ]
  },
  {
   "cell_type": "code",
   "execution_count": 28,
   "metadata": {},
   "outputs": [
    {
     "name": "stdout",
     "output_type": "stream",
     "text": [
      "{\"answer\":6.0}\n"
     ]
    }
   ],
   "source": [
    "response = requests.get(root_url + '/calc/multiply', params={'a': 2, 'b': 3})\n",
    "print(response.text)"
   ]
  },
  {
   "cell_type": "markdown",
   "metadata": {},
   "source": [
    "`Деление`"
   ]
  },
  {
   "cell_type": "code",
   "execution_count": 29,
   "metadata": {},
   "outputs": [
    {
     "name": "stdout",
     "output_type": "stream",
     "text": [
      "{\"answer\":3.0}\n"
     ]
    }
   ],
   "source": [
    "response = requests.get(root_url + '/calc/divide', params={'a': 9, 'b': 3})\n",
    "print(response.text)"
   ]
  },
  {
   "cell_type": "markdown",
   "metadata": {},
   "source": [
    "`Получение количества обращений к модели`"
   ]
  },
  {
   "cell_type": "code",
   "execution_count": 30,
   "metadata": {},
   "outputs": [
    {
     "name": "stdout",
     "output_type": "stream",
     "text": [
      "{\"counter\":4}\n"
     ]
    }
   ],
   "source": [
    "response = requests.get(root_url + '/calc/counter')\n",
    "print(response.text)"
   ]
  }
 ],
 "metadata": {
  "kernelspec": {
   "display_name": ".venv",
   "language": "python",
   "name": "python3"
  },
  "language_info": {
   "codemirror_mode": {
    "name": "ipython",
    "version": 3
   },
   "file_extension": ".py",
   "mimetype": "text/x-python",
   "name": "python",
   "nbconvert_exporter": "python",
   "pygments_lexer": "ipython3",
   "version": "3.11.5"
  }
 },
 "nbformat": 4,
 "nbformat_minor": 2
}
