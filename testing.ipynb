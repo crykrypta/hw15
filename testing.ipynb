{
 "cells": [
  {
   "cell_type": "markdown",
   "metadata": {},
   "source": [
    "# Тестировка кастомного класса `LLM`"
   ]
  },
  {
   "cell_type": "markdown",
   "metadata": {},
   "source": [
    "Инициализация обьекта `LLM`"
   ]
  },
  {
   "cell_type": "code",
   "execution_count": 21,
   "metadata": {},
   "outputs": [],
   "source": [
    "from LLM import LLM\n",
    "\n",
    "llm = LLM(path_to_base='Simble.txt',\n",
    "          chunk_size=1024,\n",
    "          model_name='gpt-3.5-turbo',\n",
    "          metadata_lenths=True)"
   ]
  },
  {
   "cell_type": "code",
   "execution_count": 25,
   "metadata": {},
   "outputs": [],
   "source": [
    "def format_print(text: str, limit: int) -> str:\n",
    "    words = text.split()\n",
    "    formatted_text = []\n",
    "    current_line = \"\"\n",
    "\n",
    "    for word in words:\n",
    "        # Проверяем, поместится ли следующее слово в текущую строку\n",
    "        if len(current_line) + len(word) + 1 <= limit:\n",
    "            # Если текущая строка пустая, добавляем слово без пробела\n",
    "            if current_line:\n",
    "                current_line += \" \" + word\n",
    "            else:\n",
    "                current_line = word\n",
    "        else:\n",
    "            # Добавляем строку в список и начинаем новую\n",
    "            formatted_text.append(current_line)\n",
    "            current_line = word\n",
    "\n",
    "    # Добавляем последнюю строку, если она не пустая\n",
    "    if current_line:\n",
    "        formatted_text.append(current_line)\n",
    "\n",
    "    # Возвращаем результат в виде строк, разделённых символом новой строки\n",
    "    print(\"\\n\".join(formatted_text))"
   ]
  },
  {
   "cell_type": "markdown",
   "metadata": {},
   "source": [
    "Обращение к модели"
   ]
  },
  {
   "cell_type": "code",
   "execution_count": 26,
   "metadata": {},
   "outputs": [
    {
     "name": "stdout",
     "output_type": "stream",
     "text": [
      "Я - нейроконсультант, готов помочь вам с вопросами о\n",
      "содержании документа.\n"
     ]
    }
   ],
   "source": [
    "format_print(\n",
    "    llm.get_answer('Кто ты?'),\n",
    "    limit=60\n",
    ")"
   ]
  },
  {
   "cell_type": "markdown",
   "metadata": {},
   "source": [
    " # Тестировка маршрутизации `FastAPI`"
   ]
  },
  {
   "cell_type": "markdown",
   "metadata": {},
   "source": [
    "## При помощи `requests`"
   ]
  },
  {
   "cell_type": "code",
   "execution_count": 39,
   "metadata": {},
   "outputs": [],
   "source": [
    "import requests\n",
    "root_url = 'http://127.0.0.1:5000'"
   ]
  },
  {
   "cell_type": "markdown",
   "metadata": {},
   "source": [
    "`/` == `root_url` == `'http://127.0.0.1:5000'`"
   ]
  },
  {
   "cell_type": "code",
   "execution_count": 40,
   "metadata": {},
   "outputs": [
    {
     "name": "stdout",
     "output_type": "stream",
     "text": [
      "{\"message\":\"Hello World\"}\n"
     ]
    }
   ],
   "source": [
    "response = requests.get(root_url)\n",
    "print(response.text)"
   ]
  },
  {
   "cell_type": "markdown",
   "metadata": {},
   "source": [
    "Маршрут - `/help`"
   ]
  },
  {
   "cell_type": "code",
   "execution_count": 41,
   "metadata": {},
   "outputs": [
    {
     "name": "stdout",
     "output_type": "stream",
     "text": [
      "{\"message\":\"Help Page\"}\n"
     ]
    }
   ],
   "source": [
    "response = requests.get(root_url + '/help')\n",
    "print(response.text)"
   ]
  },
  {
   "cell_type": "markdown",
   "metadata": {},
   "source": [
    "Маршрут - `/llm/get_answer`\n",
    "\n",
    "Здесь для мы передаем `json` в теле запроса"
   ]
  },
  {
   "cell_type": "code",
   "execution_count": 46,
   "metadata": {},
   "outputs": [
    {
     "name": "stdout",
     "output_type": "stream",
     "text": [
      "Я - нейроконсультант, готов помочь вам с вопросами о содержании документа.\n"
     ]
    }
   ],
   "source": [
    "json_body = {\n",
    "    'text': 'Кто ты?'\n",
    "}\n",
    "\n",
    "response = requests.get(root_url + '/llm/get_answer', json=json_body)\n",
    "print(response.json()['answer'])"
   ]
  }
 ],
 "metadata": {
  "kernelspec": {
   "display_name": ".venv",
   "language": "python",
   "name": "python3"
  },
  "language_info": {
   "codemirror_mode": {
    "name": "ipython",
    "version": 3
   },
   "file_extension": ".py",
   "mimetype": "text/x-python",
   "name": "python",
   "nbconvert_exporter": "python",
   "pygments_lexer": "ipython3",
   "version": "3.11.5"
  }
 },
 "nbformat": 4,
 "nbformat_minor": 2
}
